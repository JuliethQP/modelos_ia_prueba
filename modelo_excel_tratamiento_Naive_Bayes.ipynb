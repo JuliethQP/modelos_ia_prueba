{
  "nbformat": 4,
  "nbformat_minor": 0,
  "metadata": {
    "colab": {
      "provenance": [],
      "gpuType": "T4",
      "authorship_tag": "ABX9TyNYbTyw2MoHPG1JezR7IIhT",
      "include_colab_link": true
    },
    "kernelspec": {
      "name": "python3",
      "display_name": "Python 3"
    },
    "language_info": {
      "name": "python"
    },
    "accelerator": "GPU"
  },
  "cells": [
    {
      "cell_type": "markdown",
      "metadata": {
        "id": "view-in-github",
        "colab_type": "text"
      },
      "source": [
        "<a href=\"https://colab.research.google.com/github/JuliethQP/modelos_ia_prueba/blob/master/modelo_excel_tratamiento_Naive_Bayes.ipynb\" target=\"_parent\"><img src=\"https://colab.research.google.com/assets/colab-badge.svg\" alt=\"Open In Colab\"/></a>"
      ]
    },
    {
      "cell_type": "code",
      "source": [
        "from sklearn.feature_extraction.text import TfidfVectorizer\n",
        "from sklearn.naive_bayes import MultinomialNB\n",
        "from sklearn.pipeline import make_pipeline\n",
        "from sklearn.metrics import classification_report\n",
        "from sklearn.model_selection import train_test_split\n",
        "from sklearn.preprocessing import LabelEncoder\n",
        "import pandas as pd"
      ],
      "metadata": {
        "id": "mD4kI2m8vtmv"
      },
      "execution_count": null,
      "outputs": []
    },
    {
      "cell_type": "code",
      "source": [
        "# 1. Cargar datos\n",
        "df = pd.read_csv(\"/content/brain_conditions_detailed_dataset.csv\", sep=';')"
      ],
      "metadata": {
        "id": "t3TaE4FZRLJH"
      },
      "execution_count": null,
      "outputs": []
    },
    {
      "cell_type": "code",
      "source": [
        "# 2. Preprocesamiento: combinar variables estructuradas\n",
        "df = df.dropna(subset=[\"Condition\", \"Age\", \"Sex\", \"Clinical Note\", \"Treatment\"])\n",
        "df[\"text\"] = \"Condition: \" + df[\"Condition\"] + \"; Age: \" + df[\"Age\"].astype(str) + \"; Sex: \" + df[\"Sex\"] + \"; Note: \" + df[\"Clinical Note\"]"
      ],
      "metadata": {
        "id": "zcv2ttLERRqy"
      },
      "execution_count": null,
      "outputs": []
    },
    {
      "cell_type": "code",
      "source": [
        "df[\"text\"].head()"
      ],
      "metadata": {
        "colab": {
          "base_uri": "https://localhost:8080/",
          "height": 241
        },
        "id": "5ruIjyBXRS-R",
        "outputId": "18b53bd5-a0e0-4b16-ad01-6d0b14cef577"
      },
      "execution_count": null,
      "outputs": [
        {
          "output_type": "execute_result",
          "data": {
            "text/plain": [
              "0    Condition: Brain Glioma; Age: 74; Sex: F; Note...\n",
              "1    Condition: Brain Glioma; Age: 66; Sex: F; Note...\n",
              "2    Condition: Brain Glioma; Age: 62; Sex: F; Note...\n",
              "3    Condition: Brain Glioma; Age: 24; Sex: M; Note...\n",
              "4    Condition: Brain Glioma; Age: 69; Sex: M; Note...\n",
              "Name: text, dtype: object"
            ],
            "text/html": [
              "<div>\n",
              "<style scoped>\n",
              "    .dataframe tbody tr th:only-of-type {\n",
              "        vertical-align: middle;\n",
              "    }\n",
              "\n",
              "    .dataframe tbody tr th {\n",
              "        vertical-align: top;\n",
              "    }\n",
              "\n",
              "    .dataframe thead th {\n",
              "        text-align: right;\n",
              "    }\n",
              "</style>\n",
              "<table border=\"1\" class=\"dataframe\">\n",
              "  <thead>\n",
              "    <tr style=\"text-align: right;\">\n",
              "      <th></th>\n",
              "      <th>text</th>\n",
              "    </tr>\n",
              "  </thead>\n",
              "  <tbody>\n",
              "    <tr>\n",
              "      <th>0</th>\n",
              "      <td>Condition: Brain Glioma; Age: 74; Sex: F; Note...</td>\n",
              "    </tr>\n",
              "    <tr>\n",
              "      <th>1</th>\n",
              "      <td>Condition: Brain Glioma; Age: 66; Sex: F; Note...</td>\n",
              "    </tr>\n",
              "    <tr>\n",
              "      <th>2</th>\n",
              "      <td>Condition: Brain Glioma; Age: 62; Sex: F; Note...</td>\n",
              "    </tr>\n",
              "    <tr>\n",
              "      <th>3</th>\n",
              "      <td>Condition: Brain Glioma; Age: 24; Sex: M; Note...</td>\n",
              "    </tr>\n",
              "    <tr>\n",
              "      <th>4</th>\n",
              "      <td>Condition: Brain Glioma; Age: 69; Sex: M; Note...</td>\n",
              "    </tr>\n",
              "  </tbody>\n",
              "</table>\n",
              "</div><br><label><b>dtype:</b> object</label>"
            ]
          },
          "metadata": {},
          "execution_count": 6
        }
      ]
    },
    {
      "cell_type": "code",
      "source": [
        "label_encoder = LabelEncoder()\n",
        "df[\"label\"] = label_encoder.fit_transform(df[\"Treatment\"])\n",
        "\n",
        "# 2. Split\n",
        "X_train, X_test, y_train, y_test = train_test_split(df[\"text\"], df[\"label\"], test_size=0.2, random_state=42)\n",
        "\n",
        "# 3. Modelo\n",
        "model = make_pipeline(\n",
        "    TfidfVectorizer(ngram_range=(1, 2), max_features=5000),\n",
        "    MultinomialNB()\n",
        ")\n",
        "\n",
        "model.fit(X_train, y_train)\n",
        "\n",
        "# 4. Evaluación\n",
        "y_pred = model.predict(X_test)\n",
        "print(classification_report(y_test, y_pred, target_names=label_encoder.classes_))"
      ],
      "metadata": {
        "colab": {
          "base_uri": "https://localhost:8080/"
        },
        "id": "jdBQ3jkLRVZC",
        "outputId": "e667e10f-9661-47b0-c676-45e8d9007d81"
      },
      "execution_count": null,
      "outputs": [
        {
          "output_type": "stream",
          "name": "stdout",
          "text": [
            "                   precision    recall  f1-score   support\n",
            "\n",
            "     chemotherapy       0.30      0.85      0.45       236\n",
            " close monitoring       0.30      0.68      0.41       213\n",
            "radiation therapy       0.43      0.03      0.06       385\n",
            "          surgery       0.37      0.03      0.06       378\n",
            "\n",
            "         accuracy                           0.31      1212\n",
            "        macro avg       0.35      0.40      0.25      1212\n",
            "     weighted avg       0.36      0.31      0.20      1212\n",
            "\n"
          ]
        }
      ]
    },
    {
      "cell_type": "code",
      "source": [
        "## Validación del modelo\n",
        "note1 = [\"Condition: Brain Tumor; Age: 24; Sex: F; Note: Patient is experiencing balance issues and recurring seizures since early this year. The symptoms are described as moderate in nature.\"]\n",
        "\n",
        "prediction = model.predict(note1)\n",
        "\n",
        "label = label_encoder.inverse_transform(prediction)\n",
        "\n",
        "print(f\"Prediction: {label[0]}\")"
      ],
      "metadata": {
        "colab": {
          "base_uri": "https://localhost:8080/"
        },
        "id": "Fl6YL18rRfFG",
        "outputId": "f3059ff1-653a-4658-fb81-3a88e34e3aae"
      },
      "execution_count": null,
      "outputs": [
        {
          "output_type": "stream",
          "name": "stdout",
          "text": [
            "Prediction: close monitoring\n"
          ]
        }
      ]
    }
  ]
}